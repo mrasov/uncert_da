{
  "cells": [
    {
      "cell_type": "code",
      "execution_count": null,
      "id": "f66e2afc",
      "metadata": {
        "id": "f66e2afc"
      },
      "outputs": [],
      "source": [
        "import requests\n",
        "import json\n",
        "import pandas as pd"
      ]
    },
    {
      "cell_type": "code",
      "execution_count": null,
      "id": "e1acfcba",
      "metadata": {
        "id": "e1acfcba"
      },
      "outputs": [],
      "source": [
        "data_from_pubmed = pd.read_excel('data_from_pubmed.xlsx', sheet_name='core journals')\n",
        "data_from_pubmed = data_from_pubmed.drop_duplicates(subset = 'PMID').reset_index(drop = True)"
      ]
    },
    {
      "cell_type": "code",
      "execution_count": null,
      "id": "8d381243",
      "metadata": {
        "scrolled": true,
        "id": "8d381243"
      },
      "outputs": [],
      "source": [
        "from tqdm import tqdm\n",
        "doi_list = data_from_pubmed.DOI.values\n",
        "refs = []\n",
        "\n",
        "for el in tqdm(doi_list):\n",
        "    response = requests.get(f'https://api.crossref.org/works/{el}')\n",
        "    if response.status_code == 200:\n",
        "        response = response.json()\n",
        "        refs.append(response['message']['reference-count'])\n",
        "    else:\n",
        "        refs.append(None)"
      ]
    },
    {
      "cell_type": "code",
      "execution_count": null,
      "id": "48aad9c8",
      "metadata": {
        "id": "48aad9c8"
      },
      "outputs": [],
      "source": [
        "refs.to_csv('pubmed_reference.csv', sep=',')"
      ]
    }
  ],
  "metadata": {
    "kernelspec": {
      "display_name": "Python 3 (ipykernel)",
      "language": "python",
      "name": "python3"
    },
    "language_info": {
      "codemirror_mode": {
        "name": "ipython",
        "version": 3
      },
      "file_extension": ".py",
      "mimetype": "text/x-python",
      "name": "python",
      "nbconvert_exporter": "python",
      "pygments_lexer": "ipython3",
      "version": "3.9.7"
    },
    "colab": {
      "provenance": []
    }
  },
  "nbformat": 4,
  "nbformat_minor": 5
}